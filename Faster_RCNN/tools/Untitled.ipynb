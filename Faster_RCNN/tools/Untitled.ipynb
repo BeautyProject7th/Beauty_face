{
 "cells": [
  {
   "cell_type": "code",
   "execution_count": 1,
   "metadata": {
    "collapsed": true
   },
   "outputs": [],
   "source": [
    "from __future__ import division\n",
    "import _init_paths\n",
    "from fast_rcnn.config import cfg\n",
    "from fast_rcnn.test import im_detect\n",
    "from fast_rcnn.nms_wrapper import nms\n",
    "from utils.timer import Timer\n",
    "import matplotlib.pyplot as plt\n",
    "import numpy as np\n",
    "import scipy.io as sio\n",
    "import caffe, os, sys, cv2\n",
    "import argparse\n",
    "import sys"
   ]
  },
  {
   "cell_type": "code",
   "execution_count": 2,
   "metadata": {
    "collapsed": true
   },
   "outputs": [],
   "source": [
    "NETS = {'vgg16': ('VGG16','output/faster_rcnn_end2end/train/vgg16_faster_rcnn_iter_80000.caffemodel')}"
   ]
  },
  {
   "cell_type": "code",
   "execution_count": 3,
   "metadata": {
    "collapsed": true
   },
   "outputs": [],
   "source": [
    "def get_imdb_fddb(data_dir):\n",
    "  imdb = []\n",
    "  nfold = 10\n",
    "  for n in xrange(nfold):\n",
    "    #file_name = 'FDDB-folds/FDDB-fold-%02d.txt' % (n + 1)\n",
    "    file_name = \"/home/soma/face-py-faster-rcnn/data/people-03.jpg\"\n",
    "    #file_name = os.path.join(data_dir, file_name)\n",
    "    fid = open(file_name, 'r')\n",
    "    image_names = []\n",
    "    for im_name in fid:\n",
    "      image_names.append(im_name.strip('\\n'))\n",
    "\n",
    "    imdb.append(image_names)\n",
    "\n",
    "  return imdb"
   ]
  },
  {
   "cell_type": "code",
   "execution_count": 5,
   "metadata": {
    "collapsed": true
   },
   "outputs": [],
   "source": [
    "def vis_detections(im, class_name, dets, thresh=0.5):\n",
    "    \"\"\"Draw detected bounding boxes.\"\"\"\n",
    "    inds = np.where(dets[:, -1] >= thresh)[0]\n",
    "    if len(inds) == 0:\n",
    "        return\n",
    "\n",
    "    im = im[:, :, (2, 1, 0)]\n",
    "    fig, ax = plt.subplots(figsize=(12, 12))\n",
    "    ax.imshow(im, aspect='equal')\n",
    "    for i in inds:\n",
    "        bbox = dets[i, :4]\n",
    "        score = dets[i, -1]\n",
    "\n",
    "        ax.add_patch(\n",
    "            plt.Rectangle((bbox[0], bbox[1]),\n",
    "                          bbox[2] - bbox[0],\n",
    "                          bbox[3] - bbox[1], fill=False,\n",
    "                          edgecolor='red', linewidth=3.5)\n",
    "            )\n",
    "        ax.text(bbox[0], bbox[1] - 2,\n",
    "                '{:s} {:.3f}'.format(class_name, score),\n",
    "                bbox=dict(facecolor='blue', alpha=0.5),\n",
    "                fontsize=14, color='white')\n",
    "\n",
    "    ax.set_title(('{} detections with '\n",
    "                  'p({} | box) >= {:.1f}').format(class_name, class_name,\n",
    "                                                  thresh),\n",
    "                  fontsize=14)\n",
    "    plt.axis('off')\n",
    "    plt.tight_layout()\n",
    "    plt.draw()\n",
    "    plt.show()"
   ]
  },
  {
   "cell_type": "code",
   "execution_count": 6,
   "metadata": {
    "collapsed": true
   },
   "outputs": [],
   "source": [
    "def parse_args():\n",
    "  \"\"\"Parse input arguments.\"\"\"\n",
    "  parser = argparse.ArgumentParser(description='Face Detection using Faster R-CNN')\n",
    "  parser.add_argument('--gpu', dest='gpu_id', help='GPU device id to use [0]',\n",
    "            default=0, type=int)\n",
    "  parser.add_argument('--cpu', dest='cpu_mode',\n",
    "            help='Use CPU mode (overrides --gpu)',\n",
    "            action='store_true')\n",
    "  parser.add_argument('--net', dest='demo_net', help='Network to use [vgg16]',\n",
    "            choices=NETS.keys(), default='vgg16')\n",
    "\n",
    "  args = parser.parse_args()\n",
    "\n",
    "  return args"
   ]
  },
  {
   "cell_type": "code",
   "execution_count": 7,
   "metadata": {},
   "outputs": [
    {
     "name": "stderr",
     "output_type": "stream",
     "text": [
      "usage: ipykernel_launcher.py [-h] [--gpu GPU_ID] [--cpu] [--net {vgg16}]\n",
      "ipykernel_launcher.py: error: unrecognized arguments: -f /run/user/1000/jupyter/kernel-e38dfab7-1fa4-4e0c-9380-afc9cb2c8f2c.json\n"
     ]
    },
    {
     "ename": "SystemExit",
     "evalue": "2",
     "output_type": "error",
     "traceback": [
      "An exception has occurred, use %tb to see the full traceback.\n",
      "\u001b[0;31mSystemExit\u001b[0m\u001b[0;31m:\u001b[0m 2\n"
     ]
    },
    {
     "name": "stderr",
     "output_type": "stream",
     "text": [
      "/usr/local/lib/python2.7/dist-packages/IPython/core/interactiveshell.py:2890: UserWarning: To exit: use 'exit', 'quit', or Ctrl-D.\n",
      "  warn(\"To exit: use 'exit', 'quit', or Ctrl-D.\", stacklevel=1)\n"
     ]
    }
   ],
   "source": [
    "if __name__ == '__main__':\n",
    "  cfg.TEST.HAS_RPN = True  # Use RPN for proposals\n",
    "  # cfg.TEST.BBOX_REG = False\n",
    "\n",
    "  args = parse_args()\n",
    "\n",
    "  prototxt = os.path.join(cfg.MODELS_DIR, NETS[args.demo_net][0],\n",
    "              'faster_rcnn_alt_opt', 'faster_rcnn_test.pt')\n",
    "  caffemodel = os.path.join(cfg.DATA_DIR, 'faster_rcnn_models',\n",
    "                NETS[args.demo_net][1])\n",
    "\n",
    "  prototxt = 'models/face/VGG16/faster_rcnn_end2end/test.prototxt'\n",
    "  caffemodel = NETS[args.demo_net][1]\n",
    "\n",
    "  if not os.path.isfile(caffemodel):\n",
    "    raise IOError(('{:s} not found.\\nDid you run ./data/script/'\n",
    "             'fetch_faster_rcnn_models.sh?').format(caffemodel))\n",
    "\n",
    "  if args.cpu_mode:\n",
    "    caffe.set_mode_cpu()\n",
    "  else:\n",
    "    caffe.set_mode_gpu()\n",
    "    caffe.set_device(args.gpu_id)\n",
    "    cfg.GPU_ID = args.gpu_id\n",
    "  net = caffe.Net(prototxt, caffemodel, caffe.TEST)\n",
    "\n",
    "  print '\\n\\nLoaded network {:s}'.format(caffemodel)\n",
    "\n",
    "  data_dir = 'data/FDDB/'\n",
    "  out_dir = 'output/fddb_res'\n",
    "\n",
    "  if not os.path.exists(out_dir):\n",
    "    os.makedirs(out_dir)\n",
    "\n",
    "  CONF_THRESH = 0.65\n",
    "  NMS_THRESH = 0.15\n",
    "\n",
    "  imdb = get_imdb_fddb(data_dir)\n",
    "\n",
    "  # Warmup on a dummy image\n",
    "  im = 128 * np.ones((300, 500, 3), dtype=np.uint8)\n",
    "  for i in xrange(2):\n",
    "    _, _= im_detect(net, im)\n",
    "\n",
    "  nfold = len(imdb)\n",
    "  for i in xrange(nfold):\n",
    "    image_names = imdb[i]\n",
    "\n",
    "    # detection file\n",
    "    dets_file_name = os.path.join(out_dir, 'FDDB-det-fold-%02d.txt' % (i + 1))\n",
    "    fid = open(dets_file_name, 'w')\n",
    "    sys.stdout.write('%s ' % (i + 1))\n",
    "\n",
    "    for idx, im_name in enumerate(image_names):\n",
    "      # timer = Timer()\n",
    "      # timer.tic()\n",
    "\n",
    "      # Load the demo image\n",
    "      mat_name = im_name + '.mat'\n",
    "\n",
    "      # im_path = im_name + '.jpg'\n",
    "      im = cv2.imread(os.path.join(data_dir, 'originalPics', im_name + '.jpg'))\n",
    "\n",
    "      # # Detect all object classes and regress object bounds\n",
    "      # timer = Timer()\n",
    "      # timer.tic()\n",
    "      scores, boxes = im_detect(net, im)\n",
    "      # timer.toc()\n",
    "      # print ('Detection took {:.3f}s for '\n",
    "      #        '{:d} object proposals').format(timer.total_time, boxes.shape[0])\n",
    "\n",
    "      cls_ind = 1\n",
    "      cls_boxes = boxes[:, 4*cls_ind:4*(cls_ind + 1)]\n",
    "      cls_scores = scores[:, cls_ind]\n",
    "      dets = np.hstack((cls_boxes,\n",
    "                cls_scores[:, np.newaxis])).astype(np.float32)\n",
    "      keep = nms(dets, NMS_THRESH)\n",
    "      dets = dets[keep, :]\n",
    "\n",
    "      keep = np.where(dets[:, 4] > CONF_THRESH)\n",
    "      dets = dets[keep]\n",
    "\n",
    "      # vis_detections(im, 'face', dets, CONF_THRESH)\n",
    "\n",
    "      dets[:, 2] = dets[:, 2] - dets[:, 0] + 1\n",
    "      dets[:, 3] = dets[:, 3] - dets[:, 1] + 1\n",
    "\n",
    "      # timer.toc()\n",
    "      # print ('Detection took {:.3f}s for '\n",
    "      #        '{:d} object proposals').format(timer.total_time, boxes.shape[0])\n",
    "\n",
    "      fid.write(im_name + '\\n')\n",
    "      fid.write(str(dets.shape[0]) + '\\n')\n",
    "      for j in xrange(dets.shape[0]):\n",
    "        fid.write('%f %f %f %f %f\\n' % (dets[j, 0], dets[j, 1], dets[j, 2], dets[j, 3], dets[j, 4]))\n",
    "\n",
    "\n",
    "      if ((idx + 1) % 10) == 0:\n",
    "        sys.stdout.write('%.3f ' % ((idx + 1) / len(image_names) * 100))\n",
    "        sys.stdout.flush()\n",
    "\n",
    "    print ''\n",
    "    fid.close()\n",
    "\n",
    "  # os.system('cp ./fddb_res/*.txt ~/Code/FDDB/results')"
   ]
  },
  {
   "cell_type": "code",
   "execution_count": null,
   "metadata": {
    "collapsed": true
   },
   "outputs": [],
   "source": []
  }
 ],
 "metadata": {
  "kernelspec": {
   "display_name": "Python 2",
   "language": "python",
   "name": "python2"
  },
  "language_info": {
   "codemirror_mode": {
    "name": "ipython",
    "version": 2
   },
   "file_extension": ".py",
   "mimetype": "text/x-python",
   "name": "python",
   "nbconvert_exporter": "python",
   "pygments_lexer": "ipython2",
   "version": "2.7.12"
  }
 },
 "nbformat": 4,
 "nbformat_minor": 2
}
